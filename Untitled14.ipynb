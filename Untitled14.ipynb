{
  "nbformat": 4,
  "nbformat_minor": 0,
  "metadata": {
    "colab": {
      "provenance": [],
      "authorship_tag": "ABX9TyPgB9x8+sK+EP1nQols72h+",
      "include_colab_link": true
    },
    "kernelspec": {
      "name": "python3",
      "display_name": "Python 3"
    },
    "language_info": {
      "name": "python"
    }
  },
  "cells": [
    {
      "cell_type": "markdown",
      "metadata": {
        "id": "view-in-github",
        "colab_type": "text"
      },
      "source": [
        "<a href=\"https://colab.research.google.com/github/anastasyasimboon/Anastasya-Simbolon/blob/main/Untitled14.ipynb\" target=\"_parent\"><img src=\"https://colab.research.google.com/assets/colab-badge.svg\" alt=\"Open In Colab\"/></a>"
      ]
    },
    {
      "cell_type": "code",
      "execution_count": 1,
      "metadata": {
        "colab": {
          "base_uri": "https://localhost:8080/"
        },
        "id": "isLqu_0p9A3O",
        "outputId": "a3c9eefc-f414-4614-eaa9-e70ae6098f92"
      },
      "outputs": [
        {
          "output_type": "stream",
          "name": "stdout",
          "text": [
            "Range: 8\n"
          ]
        }
      ],
      "source": [
        "def hitung_range(array):\n",
        "    return array[-1] - array[0]\n",
        "\n",
        "# Contoh penggunaan\n",
        "A = [1, 3, 5, 7, 9]\n",
        "print(\"Range:\", hitung_range(A))"
      ]
    },
    {
      "cell_type": "code",
      "source": [
        "def segitiga_pascal(n):\n",
        "    matriks = [[0]*n for _ in range(n)]\n",
        "\n",
        "    for i in range(n):\n",
        "        matriks[i][0] = 1  # Kolom pertama\n",
        "        matriks[0][i] = 1  # Baris pertama\n",
        "\n",
        "    for i in range(1, n):\n",
        "        for j in range(1, n):\n",
        "            matriks[i][j] = matriks[i-1][j] + matriks[i][j-1]\n",
        "\n",
        "    # Tampilkan matriks\n",
        "    for row in matriks:\n",
        "        print(' '.join(map(str, row)))\n",
        "\n",
        "# Contoh penggunaan\n",
        "N = int(input(\"Masukkan N: \"))\n",
        "segitiga_pascal(N)\n"
      ],
      "metadata": {
        "id": "IcOwVD0v9QeD",
        "outputId": "0361ba1b-dc32-4db6-818f-8800650c42a5",
        "colab": {
          "base_uri": "https://localhost:8080/"
        }
      },
      "execution_count": 2,
      "outputs": [
        {
          "output_type": "stream",
          "name": "stdout",
          "text": [
            "Masukkan N: 4\n",
            "1 1 1 1\n",
            "1 2 3 4\n",
            "1 3 6 10\n",
            "1 4 10 20\n"
          ]
        }
      ]
    }
  ]
}