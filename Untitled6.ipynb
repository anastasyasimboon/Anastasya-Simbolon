{
  "nbformat": 4,
  "nbformat_minor": 0,
  "metadata": {
    "colab": {
      "provenance": [],
      "authorship_tag": "ABX9TyNkt0VSys1UiNcKdygmD+st",
      "include_colab_link": true
    },
    "kernelspec": {
      "name": "python3",
      "display_name": "Python 3"
    },
    "language_info": {
      "name": "python"
    }
  },
  "cells": [
    {
      "cell_type": "markdown",
      "metadata": {
        "id": "view-in-github",
        "colab_type": "text"
      },
      "source": [
        "<a href=\"https://colab.research.google.com/github/anastasyasimboon/Anastasya-Simbolon/blob/main/Untitled6.ipynb\" target=\"_parent\"><img src=\"https://colab.research.google.com/assets/colab-badge.svg\" alt=\"Open In Colab\"/></a>"
      ]
    },
    {
      "cell_type": "code",
      "execution_count": 1,
      "metadata": {
        "colab": {
          "base_uri": "https://localhost:8080/"
        },
        "id": "ZxcUWMLFTlDn",
        "outputId": "b8d81c27-29ad-46e7-f959-d45ee5f46d9e"
      },
      "outputs": [
        {
          "output_type": "stream",
          "name": "stdout",
          "text": [
            "Halo[Anastasya Simbolon]! Selamat belajar python\n"
          ]
        }
      ],
      "source": [
        "nama = (\"masukkan nama\")\n",
        "print(\"Halo[Anastasya Simbolon]! Selamat belajar python\")"
      ]
    },
    {
      "cell_type": "code",
      "source": [
        "panjang = input(\"masukan nilai panjang:\")\n",
        "lebar = input(\"masukan nilai lebar:\")\n",
        "luas = int(panjang) * int(lebar)\n",
        "print(\"luas persegi panjang adalah\", luas)"
      ],
      "metadata": {
        "colab": {
          "base_uri": "https://localhost:8080/"
        },
        "id": "rVf-EXRpTtYI",
        "outputId": "d772a48e-28f1-4b7c-d6dc-cbfa6d8387eb"
      },
      "execution_count": 2,
      "outputs": [
        {
          "output_type": "stream",
          "name": "stdout",
          "text": [
            "masukan nilai panjang:3\n",
            "masukan nilai lebar:5\n",
            "luas persegi panjang adalah 15\n"
          ]
        }
      ]
    },
    {
      "cell_type": "code",
      "source": [
        "# masukan bilangan ganjil\n",
        "Bilangan = input(\"masukan nilai angka:\")\n",
        "if int(Bilangan) % 2 == 0:\n",
        "  print(\"Bilangan genap\")\n",
        "else:\n",
        "  print(\"Bilangan ganjil\")"
      ],
      "metadata": {
        "colab": {
          "base_uri": "https://localhost:8080/"
        },
        "id": "zr8ZUoFGT4bw",
        "outputId": "7ee2b5b3-187c-47da-a6be-01c59a6d6737"
      },
      "execution_count": 3,
      "outputs": [
        {
          "output_type": "stream",
          "name": "stdout",
          "text": [
            "masukan nilai angka:3\n",
            "Bilangan ganjil\n"
          ]
        }
      ]
    },
    {
      "cell_type": "code",
      "source": [
        "for i in range(1,21):\n",
        "  print(i, end=\" \")"
      ],
      "metadata": {
        "colab": {
          "base_uri": "https://localhost:8080/"
        },
        "id": "QH0AJHVRUI6B",
        "outputId": "e289d242-4ac3-4daf-fa3a-2724297c9d6e"
      },
      "execution_count": 4,
      "outputs": [
        {
          "output_type": "stream",
          "name": "stdout",
          "text": [
            "1 2 3 4 5 6 7 8 9 10 11 12 13 14 15 16 17 18 19 20 "
          ]
        }
      ]
    },
    {
      "cell_type": "code",
      "source": [
        "a = int(input(\"masukan nilai pertama:\"))\n",
        "b = int(input(\"masukan nilai kedua:\"))\n",
        "\n",
        "jumlah = 0\n",
        "\n",
        "for i in range(a, b + 1):\n",
        "  jumlah += i # menentukan dari setiap bilangan ke jumlah\n",
        "\n",
        "# mencetak jumlah\n",
        "print(\"jumlah semua bilangan antara\", a, \"dan\", \"adalah:\", jumlah)"
      ],
      "metadata": {
        "colab": {
          "base_uri": "https://localhost:8080/"
        },
        "id": "XKE7GIssUL4m",
        "outputId": "53f9189b-16ca-4d9b-bdaf-f34c6cfb0cf6"
      },
      "execution_count": 5,
      "outputs": [
        {
          "output_type": "stream",
          "name": "stdout",
          "text": [
            "masukan nilai pertama:3\n",
            "masukan nilai kedua:7\n",
            "jumlah semua bilangan antara 3 dan adalah: 25\n"
          ]
        }
      ]
    },
    {
      "cell_type": "code",
      "source": [
        "a = int(input(\"masukan nilai pertama:\"))\n",
        "b = int(input(\"masukan nilai kedua:\"))\n",
        "print(f\"bilangan genap dari rentang {a} sampai {b}:\")\n",
        "for i in range(a, b + 1):\n",
        "  if i % 2 == 0:\n",
        "    print(i)"
      ],
      "metadata": {
        "colab": {
          "base_uri": "https://localhost:8080/"
        },
        "id": "y-eIu-NrUTQd",
        "outputId": "a1cc32b6-e347-4be7-e5c5-10a0c6840505"
      },
      "execution_count": 6,
      "outputs": [
        {
          "output_type": "stream",
          "name": "stdout",
          "text": [
            "masukan nilai pertama:3\n",
            "masukan nilai kedua:10\n",
            "bilangan genap dari rentang 3 sampai 10:\n",
            "4\n",
            "6\n",
            "8\n",
            "10\n"
          ]
        }
      ]
    },
    {
      "cell_type": "code",
      "source": [
        "a = [5, 2, 8, 1]\n",
        "print(a[::-1])"
      ],
      "metadata": {
        "colab": {
          "base_uri": "https://localhost:8080/"
        },
        "id": "1ZZNapY2UdfP",
        "outputId": "d56f404f-94b2-40dd-8e30-361aa2ec8968"
      },
      "execution_count": 7,
      "outputs": [
        {
          "output_type": "stream",
          "name": "stdout",
          "text": [
            "[1, 8, 2, 5]\n"
          ]
        }
      ]
    }
  ]
}